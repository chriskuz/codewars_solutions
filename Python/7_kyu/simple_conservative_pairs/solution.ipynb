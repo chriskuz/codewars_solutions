{
 "nbformat": 4,
 "nbformat_minor": 2,
 "metadata": {
  "language_info": {
   "name": "python",
   "codemirror_mode": {
    "name": "ipython",
    "version": 3
   },
   "version": "3.7.6-final"
  },
  "orig_nbformat": 2,
  "file_extension": ".py",
  "mimetype": "text/x-python",
  "name": "python",
  "npconvert_exporter": "python",
  "pygments_lexer": "ipython3",
  "version": 3,
  "kernelspec": {
   "name": "python37664bitdsitestconda48790fb83d3f473c989768c98a666b4b",
   "display_name": "Python 3.7.6 64-bit ('DSI_test': conda)"
  }
 },
 "cells": [
  {
   "cell_type": "markdown",
   "metadata": {},
   "source": [
    "## Simple conservative pairs\n",
    "\n",
    "In this Kata your task will be to return the count of pairs that have consecutive numbers as follows:\n",
    "\n",
    "```\n",
    "pairs([1,2,5,8,-4,-3,7,6,5]) = 3\n",
    "The pairs are selected as follows [(1,2),(5,8),(-4,-3),(7,6),5]\n",
    "--the first pair is (1,2) and the numbers in the pair are consecutive; Count = 1\n",
    "--the second pair is (5,8) and are not consecutive\n",
    "--the third pair is (-4,-3), consecutive. Count = 2\n",
    "--the fourth pair is (7,6), also consecutive. Count = 3. \n",
    "--the last digit has no pair, so we ignore.\n",
    "```\n",
    "\n",
    "More examples in the test cases.\n",
    "\n",
    "Good luck!\n",
    "\n",
    "Please also try [Simple time difference](https://www.codewars.com/kata/5b76a34ff71e5de9db0000f2)"
   ]
  },
  {
   "cell_type": "code",
   "execution_count": 1,
   "metadata": {},
   "outputs": [],
   "source": [
    "def pairs(ar):\n",
    "#first we must check if list is odd\n",
    "    if len(ar) % 2 == 1: #even test to find out that if the list is odd...\n",
    "        ar = ar[0:-1] #we set the boundary to exclude the last digit in the list\n",
    "    count = 0 #we will set a counter to count the list   \n",
    "    for i in range(0, len(ar), 2): #for iterating variable, to the length of the array, with a step of two \n",
    "        first = ar[i] #first variable of new set will be iterated variable\n",
    "        second = ar[i+1] #second variable of new set will be iterated variable plus 1\n",
    "        if first + 1 == second or first - 1 == second: #if the first + 1 is equivalent to the second or if the first - 1 is equivalent to the second \n",
    "            count += 1 #mark an updated count of consecutive sets\n",
    "    return count"
   ]
  }
 ]
}