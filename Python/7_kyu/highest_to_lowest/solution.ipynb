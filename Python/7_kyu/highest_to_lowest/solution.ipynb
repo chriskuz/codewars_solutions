{
 "nbformat": 4,
 "nbformat_minor": 2,
 "metadata": {
  "language_info": {
   "name": "python",
   "codemirror_mode": {
    "name": "ipython",
    "version": 3
   }
  },
  "orig_nbformat": 2,
  "file_extension": ".py",
  "mimetype": "text/x-python",
  "name": "python",
  "npconvert_exporter": "python",
  "pygments_lexer": "ipython3",
  "version": 3
 },
 "cells": [
  {
   "cell_type": "markdown",
   "metadata": {},
   "source": [
    "## Highest to Lowest\n",
    "\n",
    "In this little assignment you are given a string of space separated numbers, and have to return the highest and lowest number.\n",
    "\n",
    "__Example:__\n",
    "\n",
    "```\n",
    "high_and_low(\"1 2 3 4 5\")  # return \"5 1\"\n",
    "high_and_low(\"1 2 -3 4 5\") # return \"5 -3\"\n",
    "high_and_low(\"1 9 3 4 -5\") # return \"9 -5\"\n",
    "```\n",
    "__Notes:__\n",
    "\n",
    "- All numbers are valid Int32, no need to validate them.\n",
    "\n",
    "- There will always be at least one number in the input string.\n",
    "\n",
    "- Output string must be two numbers separated by a single space, and highest number is first.\n"
   ]
  },
  {
   "cell_type": "code",
   "execution_count": null,
   "metadata": {},
   "outputs": [],
   "source": [
    "def high_and_low(numbers_string):\n",
    "    numbers_string_list = numbers_string.split(' ') #splits the string into an array separated by the condition: ' '\n",
    "    numbers = [] #allocates memory for the array we wish to eventually create\n",
    "    for num_string in numbers_string_list:\n",
    "        n = int(num_string) #convert the read iterated value into an integer\n",
    "        numbers.append(n) #append such variable into the allocated memory known as numbers\n",
    "    sorted_numbers = sorted(numbers) #make/update a new array of the created int list and sort them but acending order\n",
    "    high_low = str(sorted_numbers[-1]) + ' ' + str(sorted_numbers[0]) #building the output string\n",
    "    return high_low "
   ]
  },
  {
   "cell_type": "markdown",
   "metadata": {},
   "source": [
    "This was an easy problem. There are more efficient ways to go about this. \n",
    "\n",
    "Credit to Deantwo, mwdbjbc, lucy.st, Joshy260, Olas, TiagoMiguel (plus 7 more warriors) for the below:\n",
    "```\n",
    "def high_and_low(numbers): #z.\n",
    "    nn = [int(s) for s in numbers.split(\" \")]\n",
    "    return \"%i %i\" % (max(nn),min(nn))\n",
    "```"
   ]
  }
 ]
}