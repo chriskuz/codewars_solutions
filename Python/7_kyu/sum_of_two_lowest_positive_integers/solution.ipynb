{
 "nbformat": 4,
 "nbformat_minor": 2,
 "metadata": {
  "language_info": {
   "name": "python",
   "codemirror_mode": {
    "name": "ipython",
    "version": 3
   },
   "version": "3.7.6-final"
  },
  "orig_nbformat": 2,
  "file_extension": ".py",
  "mimetype": "text/x-python",
  "name": "python",
  "npconvert_exporter": "python",
  "pygments_lexer": "ipython3",
  "version": 3,
  "kernelspec": {
   "name": "python37664bitdsitestconda48790fb83d3f473c989768c98a666b4b",
   "display_name": "Python 3.7.6 64-bit ('DSI_test': conda)"
  }
 },
 "cells": [
  {
   "cell_type": "markdown",
   "metadata": {},
   "source": [
    "## Sum of two lowest positive integers\n",
    "\n",
    "Create a function that returns the sum of the two lowest positive numbers given an array of minimum 4 positive integers. No floats or non-positive integers will be passed.\n",
    "\n",
    "For example, when an array is passed like `[19, 5, 42, 2, 77]`, the output should be `7`.\n",
    "\n",
    "`[10, 343445353, 3453445, 3453545353453]` should return `3453455`."
   ]
  },
  {
   "cell_type": "code",
   "execution_count": 1,
   "metadata": {},
   "outputs": [],
   "source": [
    "def sum_two_smallest_numbers(numbers):\n",
    "    sorted_list = sorted(numbers)\n",
    "    return sorted_list[0] + sorted_list[1]"
   ]
  },
  {
   "cell_type": "markdown",
   "metadata": {},
   "source": [
    "This was another easy problem. Credit to danman1979, Scopula, mstrfx, VadimPopov, dmpage, redundnt (plus 1498 more warriors) for the mor eefficient solution below:\n",
    "\n",
    "```\n",
    "def sum_two_smallest_numbers(numbers):\n",
    "    return sum(sorted(numbers)[:2])\n",
    "```"
   ]
  }
 ]
}