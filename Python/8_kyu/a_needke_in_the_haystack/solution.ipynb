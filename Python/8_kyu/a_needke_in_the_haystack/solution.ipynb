{
 "nbformat": 4,
 "nbformat_minor": 2,
 "metadata": {
  "language_info": {
   "name": "python",
   "codemirror_mode": {
    "name": "ipython",
    "version": 3
   },
   "version": "3.7.6-final"
  },
  "orig_nbformat": 2,
  "file_extension": ".py",
  "mimetype": "text/x-python",
  "name": "python",
  "npconvert_exporter": "python",
  "pygments_lexer": "ipython3",
  "version": 3,
  "kernelspec": {
   "name": "python37664bitdsitestconda48790fb83d3f473c989768c98a666b4b",
   "display_name": "Python 3.7.6 64-bit ('DSI_test': conda)"
  }
 },
 "cells": [
  {
   "cell_type": "markdown",
   "metadata": {},
   "source": [
    "## A Needle in a Haystack\n",
    "\n",
    "Can you find the needle in the haystack?\n",
    "\n",
    "Write a function `findNeedle()` that takes an `array` full of junk but containing one `\"needle\"`\n",
    "\n",
    "After your function finds the needle it should return a message (as a string) that says:\n",
    "\n",
    "`\"found the needle at position \"` plus the `index` it found the needle, so:\n",
    "\n",
    "```\n",
    "find_needle(['hay', 'junk', 'hay', 'hay', 'moreJunk', 'needle', 'randomJunk'])\n",
    "```\n",
    "\n",
    "should return `\"found the needle at position 5\"`"
   ]
  },
  {
   "cell_type": "code",
   "execution_count": 1,
   "metadata": {},
   "outputs": [],
   "source": [
    "def find_needle(haystack):\n",
    "    for i, word in enumerate(haystack):\n",
    "        if word == 'needle':\n",
    "            return 'found the needle at position ' + str(i) "
   ]
  },
  {
   "cell_type": "markdown",
   "metadata": {},
   "source": [
    "This was an easy problem. There were some more condensed solutions written by others. \n",
    "\n",
    "Credit to jake9066, acaccia, 1b8, astojanowski, Gnklr, Hemu (plus 339 more warriors) for the below:\n",
    "```\n",
    "def find_needle(haystack): return 'found the needle at position %d' % haystack.index('needle')\n",
    "```"
   ]
  },
  {
   "cell_type": "code",
   "execution_count": null,
   "metadata": {},
   "outputs": [],
   "source": []
  }
 ]
}