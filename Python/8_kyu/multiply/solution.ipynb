{
 "nbformat": 4,
 "nbformat_minor": 2,
 "metadata": {
  "language_info": {
   "name": "python",
   "codemirror_mode": {
    "name": "ipython",
    "version": 3
   },
   "version": "3.7.6-final"
  },
  "orig_nbformat": 2,
  "file_extension": ".py",
  "mimetype": "text/x-python",
  "name": "python",
  "npconvert_exporter": "python",
  "pygments_lexer": "ipython3",
  "version": 3,
  "kernelspec": {
   "name": "python37664bitdsitestconda48790fb83d3f473c989768c98a666b4b",
   "display_name": "Python 3.7.6 64-bit ('DSI_test': conda)"
  }
 },
 "cells": [
  {
   "cell_type": "markdown",
   "metadata": {},
   "source": [
    "## Multiply\n",
    "\n",
    "The code does not execute properly. Try to figure out why.\n",
    "\n",
    "```\n",
    "def multiply(a, b):\n",
    "    a * b\n",
    "```"
   ]
  },
  {
   "cell_type": "code",
   "execution_count": 1,
   "metadata": {},
   "outputs": [],
   "source": [
    "def multiply(a, b):\n",
    "  return a * b"
   ]
  }
 ]
}