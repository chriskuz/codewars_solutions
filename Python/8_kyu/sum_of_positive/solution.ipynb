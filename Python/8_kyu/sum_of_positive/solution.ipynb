{
 "nbformat": 4,
 "nbformat_minor": 2,
 "metadata": {
  "language_info": {
   "name": "python",
   "codemirror_mode": {
    "name": "ipython",
    "version": 3
   },
   "version": "3.7.6-final"
  },
  "orig_nbformat": 2,
  "file_extension": ".py",
  "mimetype": "text/x-python",
  "name": "python",
  "npconvert_exporter": "python",
  "pygments_lexer": "ipython3",
  "version": 3,
  "kernelspec": {
   "name": "python37664bitdsitestconda48790fb83d3f473c989768c98a666b4b",
   "display_name": "Python 3.7.6 64-bit ('DSI_test': conda)"
  }
 },
 "cells": [
  {
   "cell_type": "markdown",
   "metadata": {},
   "source": [
    "## Sum of positive\n",
    "\n",
    "You get an array of numbers, return the sum of all of the positives ones.\n",
    "\n",
    "Example `[1,-4,7,12]` => `1 + 7 + 12 = 20`\n",
    "\n",
    "Note: if there is nothing to sum, the sum is default to `0`."
   ]
  },
  {
   "cell_type": "code",
   "execution_count": 1,
   "metadata": {},
   "outputs": [],
   "source": [
    "def positive_sum(arr):\n",
    "    x = 0\n",
    "    for i in arr:\n",
    "        if i > 0:\n",
    "            x = x + i    \n",
    "    return x"
   ]
  },
  {
   "cell_type": "markdown",
   "metadata": {},
   "source": [
    "More efficient solution found below. Credit to lancelote, CrazyMerlyn, tshipa.madi@gmail.com, Vanadis, lose311, AcesOfGlory (plus 602 more warriors):\n",
    "\n",
    "```\n",
    "def positive_sum(arr):\n",
    "    return sum(x for x in arr if x > 0)\n",
    "```    \n"
   ]
  }
 ]
}