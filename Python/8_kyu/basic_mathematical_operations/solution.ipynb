{
 "nbformat": 4,
 "nbformat_minor": 2,
 "metadata": {
  "language_info": {
   "name": "python",
   "codemirror_mode": {
    "name": "ipython",
    "version": 3
   },
   "version": "3.7.6-final"
  },
  "orig_nbformat": 2,
  "file_extension": ".py",
  "mimetype": "text/x-python",
  "name": "python",
  "npconvert_exporter": "python",
  "pygments_lexer": "ipython3",
  "version": 3,
  "kernelspec": {
   "name": "python37664bitdsitestconda48790fb83d3f473c989768c98a666b4b",
   "display_name": "Python 3.7.6 64-bit ('DSI_test': conda)"
  }
 },
 "cells": [
  {
   "cell_type": "markdown",
   "metadata": {},
   "source": [
    "## Basic Mathematical Operations\n",
    "\n",
    "Your task is to create a function that does four basic mathematical operations.\n",
    "\n",
    "The function should take three arguments - operation(string/char), value1(number), value2(number).\n",
    "The function should return result of numbers after applying the chosen operation.\n",
    "\n",
    "### Examples\n",
    "\n",
    "```\n",
    "basic_op('+', 4, 7)         # Output: 11\n",
    "basic_op('-', 15, 18)       # Output: -3\n",
    "basic_op('*', 5, 5)         # Output: 25\n",
    "basic_op('/', 49, 7)        # Output: 7\n",
    "```"
   ]
  },
  {
   "cell_type": "code",
   "execution_count": 1,
   "metadata": {},
   "outputs": [],
   "source": [
    "def basic_op(operator, value1, value2):\n",
    "    if operator == '+':\n",
    "        w = value1 + value2\n",
    "        return w\n",
    "    elif operator == '-':\n",
    "        x = value1 - value2\n",
    "        return x\n",
    "    elif operator == '*':\n",
    "        y = value1 * value2\n",
    "        return y\n",
    "    elif operator == '/':\n",
    "        z = value1/value2\n",
    "        return z"
   ]
  },
  {
   "cell_type": "code",
   "execution_count": null,
   "metadata": {},
   "outputs": [],
   "source": []
  }
 ]
}