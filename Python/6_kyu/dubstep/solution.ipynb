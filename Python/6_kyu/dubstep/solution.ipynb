{
 "nbformat": 4,
 "nbformat_minor": 2,
 "metadata": {
  "language_info": {
   "name": "python",
   "codemirror_mode": {
    "name": "ipython",
    "version": 3
   },
   "version": "3.7.6-final"
  },
  "orig_nbformat": 2,
  "file_extension": ".py",
  "mimetype": "text/x-python",
  "name": "python",
  "npconvert_exporter": "python",
  "pygments_lexer": "ipython3",
  "version": 3,
  "kernelspec": {
   "name": "python37664bitdsitestconda48790fb83d3f473c989768c98a666b4b",
   "display_name": "Python 3.7.6 64-bit ('DSI_test': conda)"
  }
 },
 "cells": [
  {
   "cell_type": "markdown",
   "metadata": {},
   "source": [
    "## Dubstep\n",
    "\n",
    "Polycarpus works as a DJ in the best Berland nightclub, and he often uses dubstep music in his performance. Recently, he has decided to take a couple of old songs and make dubstep remixes from them.\n",
    "\n",
    "Let's assume that a song consists of some number of words (that don't contain WUB). To make the dubstep remix of this song, Polycarpus inserts a certain number of words \"WUB\" before the first word of the song (the number may be zero), after the last word (the number may be zero), and between words (at least one between any pair of neighbouring words), and then the boy glues together all the words, including \"WUB\", in one string and plays the song at the club.\n",
    "\n",
    "For example, a song with words \"I AM X\" can transform into a dubstep remix as \"WUBWUBIWUBAMWUBWUBX\" and cannot transform into \"WUBWUBIAMWUBX\".\n",
    "\n",
    "Recently, Jonny has heard Polycarpus's new dubstep track, but since he isn't into modern music, he decided to find out what was the initial song that Polycarpus remixed. Help Jonny restore the original song.\n",
    "\n",
    "__Input__\n",
    "\n",
    "The input consists of a single non-empty string, consisting only of uppercase English letters, the string's length doesn't exceed 200 characters\n",
    "\n",
    "__Output__\n",
    "\n",
    "Return the words of the initial song that Polycarpus used to make a dubsteb remix. Separate the words with a space.\n",
    "\n",
    "__Examples__\n",
    "\n",
    "```\n",
    "song_decoder(\"WUBWEWUBAREWUBWUBTHEWUBCHAMPIONSWUBMYWUBFRIENDWUB\")\n",
    "  # =>  WE ARE THE CHAMPIONS MY FRIEND\n",
    "```"
   ]
  },
  {
   "cell_type": "code",
   "execution_count": 1,
   "metadata": {},
   "outputs": [],
   "source": [
    "def song_decoder(song):\n",
    "    chunks = song.split('WUB')\n",
    "    words = []\n",
    "    for chunk in chunks:\n",
    "        if chunk == '':\n",
    "            continue\n",
    "        words.append(chunk)\n",
    "    return ' '.join(words)"
   ]
  },
  {
   "cell_type": "markdown",
   "metadata": {},
   "source": [
    "This one was a little tricky. Some reminder was needed on what `split` is able to do as well as `join`. SOme other elegant solutions also exist\n",
    "\n",
    "\n",
    "Credit to isbadawi, richlewis42, chriscannon, 9394974, jselsing, jabbson (plus 1725 more warriors) for the below:\n",
    "\n",
    "``` \n",
    "def song_decoder(song):\n",
    "    return \" \".join(song.replace('WUB', ' ').split())\n",
    "```"
   ]
  }
 ]
}