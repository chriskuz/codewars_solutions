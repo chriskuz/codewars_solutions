{
 "nbformat": 4,
 "nbformat_minor": 2,
 "metadata": {
  "language_info": {
   "name": "python",
   "codemirror_mode": {
    "name": "ipython",
    "version": 3
   },
   "version": "3.7.6-final"
  },
  "orig_nbformat": 2,
  "file_extension": ".py",
  "mimetype": "text/x-python",
  "name": "python",
  "npconvert_exporter": "python",
  "pygments_lexer": "ipython3",
  "version": 3,
  "kernelspec": {
   "name": "python37664bitdsitestconda48790fb83d3f473c989768c98a666b4b",
   "display_name": "Python 3.7.6 64-bit ('DSI_test': conda)"
  }
 },
 "cells": [
  {
   "cell_type": "markdown",
   "metadata": {},
   "source": [
    "## Simple time difference\n",
    "\n",
    "In this Kata, you will be given a series of times at which an alarm goes off. Your task will be to determine the maximum time interval between alarms. Each alarm starts ringing at the beginning of the corresponding minute and rings for exactly one minute. The times in the array are not in chronological order. Ignore duplicate times, if any.\n",
    "\n",
    "```\n",
    "For example:\n",
    "solve([\"14:51\"]) = \"23:59\". If the alarm goes off now, it will not go off for another 23 hours and 59 minutes.\n",
    "solve([\"23:00\",\"04:22\",\"18:05\",\"06:24\"]) == \"11:40\". The max interval that the alarm will not go off is 11 hours and 40 minutes.\n",
    "```\n",
    "\n",
    "In the second example, the alarm goes off `4` times in a day."
   ]
  },
  {
   "cell_type": "code",
   "execution_count": 204,
   "metadata": {},
   "outputs": [],
   "source": [
    "def solve(arr):\n",
    "    minutes_arr = [int(times[0:2])*60 + int(times[3:]) for times in arr] #creates a new array of integers consisting of minute equivalents of times\n",
    "    minutes_arr.sort() #sorts the minutes array\n",
    "    minutes_arr.append(minutes_arr[0]+24*60) #adds a final value of a time denoting the next alarm in the next day\n",
    "\n",
    "    base_difference = 0 #sets a place holder for the base interval\n",
    "\n",
    "    for index in range(len(minutes_arr) - 1):\n",
    "        time_difference = minutes_arr[index+1] - minutes_arr[index] - 1 #takes the time interval difference of the minutes\n",
    "        if time_difference > base_difference:\n",
    "            base_difference = time_difference #updates the base interval to the maximum value if present from the above function\n",
    "\n",
    "    hours, minutes = divmod(base_difference, 60) #refer to divmod documentation \n",
    "\n",
    "    return f\"{hours:02}:{minutes:02}\" #returns with padding to accounr for 0s in time"
   ]
  },
  {
   "cell_type": "markdown",
   "metadata": {},
   "source": [
    "This was hard. First attempt was made with datetime and time modules built-in python. I believe these could've been used to solve the problem with some cleanup eliminating the years and days, but it was recognized that the problem could be solved without such modules. Another approach was to answer the problem directly by converting the stringsz into integers and separating the hours and minutes apart. The largest time difference between hours would be recognized. The next step would've been to point to the times where the time difference came from, and associate the hours and minutes together and their respective differences. Ultimately, this method was not pursued as it became inefficient. The final method, crediting Github user [AlxSp](https://github.com/AlxSp), for the oversight implemented a more memory efficient method to solve the problem where only one list was generated with list comprehension and one for loop was used. [Divmod documentation](https://docs.python.org/3/library/functions.html#divmod) was really helpful in quickly handling any needed conversions towards the end with "
   ]
  },
  {
   "cell_type": "code",
   "execution_count": null,
   "metadata": {},
   "outputs": [],
   "source": []
  }
 ]
}