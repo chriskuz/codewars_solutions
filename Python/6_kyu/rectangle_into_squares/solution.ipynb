{
 "nbformat": 4,
 "nbformat_minor": 2,
 "metadata": {
  "language_info": {
   "name": "python",
   "codemirror_mode": {
    "name": "ipython",
    "version": 3
   },
   "version": "3.7.6-final"
  },
  "orig_nbformat": 2,
  "file_extension": ".py",
  "mimetype": "text/x-python",
  "name": "python",
  "npconvert_exporter": "python",
  "pygments_lexer": "ipython3",
  "version": 3,
  "kernelspec": {
   "name": "python37664bitdsitestconda48790fb83d3f473c989768c98a666b4b",
   "display_name": "Python 3.7.6 64-bit ('DSI_test': conda)"
  }
 },
 "cells": [
  {
   "cell_type": "markdown",
   "metadata": {},
   "source": [
    "## Rectangle into Squares\n",
    "\n",
    "The drawing below gives an idea of how to cut a given \"true\" rectangle into squares (\"true\" rectangle meaning that the two dimensions are different).\n",
    "\n",
    "![](https://i.imgur.com/lk5vJ7sm.jpg)\n",
    "\n",
    "Can you translate this drawing into an algorithm?\n",
    "\n",
    "You will be given two dimensions\n",
    "\n",
    "- a positive integer length (parameter named lng)\n",
    "\n",
    "- a positive integer width (parameter named wdth)\n",
    "\n",
    "You will return an array or a string (depending on the language; Shell bash, PowerShell and Fortran return a string) with the size of each of the squares.\n",
    "\n",
    "```\n",
    "sqInRect(5, 3) should return [3, 2, 1, 1]\n",
    "  sqInRect(3, 5) should return [3, 2, 1, 1]\n",
    "  or (Haskell)\n",
    "  squaresInRect  5  3 `shouldBe` Just [3,2,1,1]\n",
    "  squaresInRect  3  5 `shouldBe` Just [3,2,1,1]\n",
    "  or (Fsharp)\n",
    "  squaresInRect  5  3 should return Some [3,2,1,1]\n",
    "  squaresInRect  3  5 should return Some [3,2,1,1]\n",
    "  or (Swift)\n",
    "  squaresInRect  5  3 should return [3,2,1,1] as optional\n",
    "  squaresInRect  3  5 should return [3,2,1,1] as optional\n",
    "  or (Cpp)\n",
    "  sqInRect(5, 3) should return {3, 2, 1, 1}\n",
    "  sqInRect(3, 5) should return {3, 2, 1, 1}\n",
    "  (C)\n",
    "  C returns a structure, see the \"Solution\" and \"Examples\" tabs.\n",
    "  Your result and the reference test solution are compared by strings.\n",
    "```\n",
    "\n",
    "Notes:\n",
    "\n",
    "- lng == wdth as a starting case would be an entirely different problem and the drawing is planned to be interpreted with `lng != wdth`. (See kata, Square into Squares. Protect trees! http://www.codewars.com/kata/54eb33e5bc1a25440d000891 for this problem).\n",
    "\n",
    "- When the initial parameters are so that `lng` == `wdth`, the solution `[lng]` would be the most obvious but not in the spirit of this kata so, in that case, return `None/nil/null/Nothing`\n",
    "\n",
    "- return {} with C++, Array() with Scala.\n",
    "\n",
    "- In that case the returned structure of C will have its `sz` component equal to `0`.\n",
    "\n",
    "- Return the string `\"nil\"` with Bash, PowerShell and Fortran.\n",
    "\n",
    "- You can see more examples in \"RUN SAMPLE TESTS\"."
   ]
  },
  {
   "cell_type": "code",
   "execution_count": 1,
   "metadata": {},
   "outputs": [],
   "source": [
    "def sort_sides(lng, wdth):\n",
    "    return sorted([lng, wdth])\n",
    "\n",
    "def sqInRect(lng, wdth):\n",
    "    if lng == wdth:\n",
    "        return None\n",
    "    small, large = sort_sides(lng, wdth)\n",
    "    squares = []\n",
    "    while small > 0:\n",
    "        squares.append(small)\n",
    "        new_side = large - small\n",
    "        small, large = sort_sides(new_side, small)\n",
    "    return squares"
   ]
  },
  {
   "cell_type": "markdown",
   "metadata": {},
   "source": [
    "This was a harder kata than anticipated. Will have to come back to it to find more efficient solutions. "
   ]
  },
  {
   "cell_type": "markdown",
   "metadata": {},
   "source": [
    "Credit to MMMAAANNN for the below:\n",
    "\n",
    "```\n",
    "# Recursive solution\n",
    "def sqInRect(lng, wdth, recur = 0):\n",
    "    if lng == wdth:\n",
    "        return (None, [lng])[recur]            # If this is original function call, return None for equal sides (per kata requirement);\n",
    "                                               # if this is recursion call, we reached the smallest square, so get out of recursion.\n",
    "    lesser = min(lng, wdth)\n",
    "    return [lesser] + sqInRect(lesser, abs(lng - wdth), recur = 1)\n",
    "```"
   ]
  },
  {
   "cell_type": "code",
   "execution_count": null,
   "metadata": {},
   "outputs": [],
   "source": []
  }
 ]
}