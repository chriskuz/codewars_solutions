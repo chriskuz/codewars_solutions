{
 "nbformat": 4,
 "nbformat_minor": 2,
 "metadata": {
  "language_info": {
   "name": "python",
   "codemirror_mode": {
    "name": "ipython",
    "version": 3
   },
   "version": "3.7.6-final"
  },
  "orig_nbformat": 2,
  "file_extension": ".py",
  "mimetype": "text/x-python",
  "name": "python",
  "npconvert_exporter": "python",
  "pygments_lexer": "ipython3",
  "version": 3,
  "kernelspec": {
   "name": "python37664bitdsitestconda48790fb83d3f473c989768c98a666b4b",
   "display_name": "Python 3.7.6 64-bit ('DSI_test': conda)"
  }
 },
 "cells": [
  {
   "cell_type": "markdown",
   "metadata": {},
   "source": [
    "__RGB to Hex Conversion__\n",
    "\n",
    "The rgb function is incomplete. Complete it so that passing in RGB decimal values will result in a hexadecimal representation being returned. Valid decimal values for RGB are 0 - 255. Any values that fall out of that range must be rounded to the closest valid value.\n",
    "\n",
    "Note: Your answer should always be 6 characters long, the shorthand with 3 will not work here.\n",
    "\n",
    "The following are examples of expected output values:\n",
    "\n",
    "```\n",
    "rgb(255, 255, 255) # returns FFFFFF\n",
    "rgb(255, 255, 300) # returns FFFFFF\n",
    "rgb(0,0,0) # returns 000000\n",
    "rgb(148, 0, 211) # returns 9400D3\n",
    "```"
   ]
  },
  {
   "cell_type": "code",
   "execution_count": 1,
   "metadata": {},
   "outputs": [],
   "source": [
    "def rgb(r,g,b):\n",
    "    if r < 0:\n",
    "        r = 0\n",
    "    if g < 0:\n",
    "        g = 0\n",
    "    if b < 0:\n",
    "        b = 0\n",
    "    \n",
    "    if r > 255:\n",
    "        r = 255\n",
    "    if g > 255:\n",
    "        g = 255\n",
    "    if b > 255:\n",
    "        b = 255\n",
    "\n",
    "\n",
    "    r_string = hex(r)\n",
    "    g_string = hex(g)\n",
    "    b_string = hex(b)\n",
    "\n",
    "    print(r_string)\n",
    "\n",
    "    r_string = r_string.replace('0x', '')\n",
    "    g_string = g_string.replace('0x', '')\n",
    "    b_string = b_string.replace('0x', '')\n",
    "\n",
    "    if len(r_string) == 1:\n",
    "        r_string = '0' + r_string\n",
    "    if len(g_string) == 1:\n",
    "        g_string = '0' + g_string\n",
    "    if len(b_string) == 1:\n",
    "        b_string = '0' + b_string\n",
    "\n",
    "    return str.upper(r_string + g_string + b_string)"
   ]
  },
  {
   "cell_type": "markdown",
   "metadata": {},
   "source": [
    "The above problem was rather difficult for me on 06-19-20. The first attempt made was to hard code the problem. Round would not be idela to use and I was unsure of importing the `math` package built into python. I did not want to, but ultimately resorted to using the `hex()` method built into python. Still believe the solution I have is a little tacky and could use some improvement, hbut with `hex()` everything was much easier to accomplish without having to write my own hexadecimal table. "
   ]
  }
 ]
}