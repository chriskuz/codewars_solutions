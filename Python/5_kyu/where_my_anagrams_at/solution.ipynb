{
 "nbformat": 4,
 "nbformat_minor": 2,
 "metadata": {
  "language_info": {
   "name": "python",
   "codemirror_mode": {
    "name": "ipython",
    "version": 3
   },
   "version": "3.7.6-final"
  },
  "orig_nbformat": 2,
  "file_extension": ".py",
  "mimetype": "text/x-python",
  "name": "python",
  "npconvert_exporter": "python",
  "pygments_lexer": "ipython3",
  "version": 3,
  "kernelspec": {
   "name": "python37664bitdsitestconda48790fb83d3f473c989768c98a666b4b",
   "display_name": "Python 3.7.6 64-bit ('DSI_test': conda)"
  }
 },
 "cells": [
  {
   "cell_type": "markdown",
   "metadata": {},
   "source": [
    "## Where my anagrams at?\n",
    "\n",
    "What is an anagram? Well, two words are anagrams of each other if they both contain the same letters. For example:\n",
    "\n",
    "```\n",
    "'abba' & 'baab' == true\n",
    "\n",
    "'abba' & 'bbaa' == true\n",
    "\n",
    "'abba' & 'abbba' == false\n",
    "\n",
    "'abba' & 'abca' == false\n",
    "```\n",
    "\n",
    "Write a function that will find all the anagrams of a word from a list. You will be given two inputs a word and an array with words. You should return an array of all the anagrams or an empty array if there are none. For example:\n",
    "\n",
    "```\n",
    "anagrams('abba', ['aabb', 'abcd', 'bbaa', 'dada']) => ['aabb', 'bbaa']\n",
    "\n",
    "anagrams('racer', ['crazer', 'carer', 'racar', 'caers', 'racer']) => ['carer', 'racer']\n",
    "\n",
    "anagrams('laser', ['lazing', 'lazy',  'lacer']) => []\n",
    "```"
   ]
  },
  {
   "cell_type": "code",
   "execution_count": 19,
   "metadata": {},
   "outputs": [],
   "source": [
    "def anagrams(word, words):\n",
    "    successful_gram = []\n",
    "    test_gram = []\n",
    "    word_dict = {}\n",
    "    words_dict = {}\n",
    "\n",
    "    for character in word:\n",
    "        word_dict[character] = word_dict.get(character, 0) + 1\n",
    "    \n",
    "    for individual_word in words:\n",
    "        for character in individual_word:\n",
    "            words_dict[character] = words_dict.get(character, 0) + 1\n",
    "        if words_dict == word_dict:\n",
    "            successful_gram.append(individual_word)\n",
    "            words_dict = {}\n",
    "        else:\n",
    "            words_dict = {} \n",
    "\n",
    "\n",
    "\n",
    "    return successful_gram"
   ]
  },
  {
   "cell_type": "code",
   "execution_count": 20,
   "metadata": {},
   "outputs": [
    {
     "data": {
      "text/plain": "['aabb', 'bbaa']"
     },
     "execution_count": 20,
     "metadata": {},
     "output_type": "execute_result"
    }
   ],
   "source": [
    "w1 = 'abba'\n",
    "w2 = ['aabb', 'abcd', 'bbaa', 'dada']\n",
    "anagrams(w1, w2)"
   ]
  },
  {
   "cell_type": "markdown",
   "metadata": {},
   "source": [
    "This problem was fun and not overly difficult. Some help was used in trying to consider a methodology on building an appropriate dicionary to count the frequency of characters. The writer for [this description from GeeksforGeeks](https://www.geeksforgeeks.org/python-frequency-of-each-character-in-string/) shows a few elegant ways to obtain individual character frequencies. "
   ]
  },
  {
   "cell_type": "markdown",
   "metadata": {},
   "source": []
  }
 ]
}