{
 "nbformat": 4,
 "nbformat_minor": 2,
 "metadata": {
  "language_info": {
   "name": "python",
   "codemirror_mode": {
    "name": "ipython",
    "version": 3
   },
   "version": "3.7.6-final"
  },
  "orig_nbformat": 2,
  "file_extension": ".py",
  "mimetype": "text/x-python",
  "name": "python",
  "npconvert_exporter": "python",
  "pygments_lexer": "ipython3",
  "version": 3,
  "kernelspec": {
   "name": "python37664bitdsitestconda48790fb83d3f473c989768c98a666b4b",
   "display_name": "Python 3.7.6 64-bit ('DSI_test': conda)"
  }
 },
 "cells": [
  {
   "cell_type": "markdown",
   "metadata": {},
   "source": [
    "## Simple Pig Latin\n",
    "\n",
    "Move the first letter of each word to the end of it, then add \"ay\" to the end of the word. Leave punctuation marks untouched.\n",
    "\n",
    "### Examples:\n",
    "\n",
    "```\n",
    "pig_it('Pig latin is cool') # igPay atinlay siay oolcay\n",
    "pig_it('Hello world !')     # elloHay orldway !\n",
    "```"
   ]
  },
  {
   "cell_type": "code",
   "execution_count": 65,
   "metadata": {},
   "outputs": [],
   "source": [
    "def pig_it(text):\n",
    "    listed_text = list(text.split(' '))\n",
    "    adjusted_text = []\n",
    "    pig_latin = ''\n",
    "\n",
    "    for i in range(len(listed_text)):\n",
    "        if listed_text[i] != '!' and listed_text[i] != '?':\n",
    "            new_word = listed_text[i][1:] + listed_text[i][0] + 'ay'\n",
    "            adjusted_text.append(new_word)\n",
    "        else:\n",
    "            adjusted_text.append(listed_text[i])\n",
    "\n",
    "    \n",
    "    for i in range(len(adjusted_text)):\n",
    "        pig_latin += adjusted_text[i] + ' '\n",
    "    return pig_latin[:-1]"
   ]
  },
  {
   "cell_type": "markdown",
   "metadata": {},
   "source": [
    "This problem was not overly difficult. Believe it could be more of a 6kyu valued problem. "
   ]
  }
 ]
}