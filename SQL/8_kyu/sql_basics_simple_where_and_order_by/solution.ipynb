{
 "nbformat": 4,
 "nbformat_minor": 2,
 "metadata": {
  "language_info": {
   "name": "python",
   "codemirror_mode": {
    "name": "ipython",
    "version": 3
   }
  },
  "orig_nbformat": 2,
  "file_extension": ".py",
  "mimetype": "text/x-python",
  "name": "python",
  "npconvert_exporter": "python",
  "pygments_lexer": "ipython3",
  "version": 3
 },
 "cells": [
  {
   "cell_type": "markdown",
   "metadata": {},
   "source": [
    "## SQL Basics: Simple WHERE and ORDER BY\n",
    "\n",
    "For this challenge you need to create a simple SELECT statement that will return all columns from the people table WHERE their age is over 50\n",
    "\n",
    "people table schema\n",
    "\n",
    "- id\n",
    "\n",
    "- name\n",
    "\n",
    "- age\n",
    "\n",
    "You should return all people fields where their age is over 50 and order by the age descending\n",
    "\n",
    "NOTE: Your solution should use pure SQL. Ruby is used within the test cases to do the actual testing.\n",
    "\n",
    "NOTE 2: Don't end your query with a semicolon."
   ]
  },
  {
   "cell_type": "markdown",
   "metadata": {},
   "source": [
    "SQL Solution below:\n",
    "\n",
    "```\n",
    "SELECT p.id, p.name, p.age\n",
    "FROM people as p\n",
    "WHERE p.age>50\n",
    "ORDER BY p.age DESC\n",
    "```"
   ]
  },
  {
   "cell_type": "markdown",
   "metadata": {},
   "source": [
    "Alternatively, selecting all would work here as well. "
   ]
  }
 ]
}