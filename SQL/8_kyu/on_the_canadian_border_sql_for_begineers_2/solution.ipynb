{
 "nbformat": 4,
 "nbformat_minor": 2,
 "metadata": {
  "language_info": {
   "name": "python",
   "codemirror_mode": {
    "name": "ipython",
    "version": 3
   }
  },
  "orig_nbformat": 2,
  "file_extension": ".py",
  "mimetype": "text/x-python",
  "name": "python",
  "npconvert_exporter": "python",
  "pygments_lexer": "ipython3",
  "version": 3
 },
 "cells": [
  {
   "cell_type": "markdown",
   "metadata": {},
   "source": [
    "## On the Canadian Border (SQL for Beginners #2)\n",
    "\n",
    "You are a border guard sitting on the Canadian border. You were given a list of travelers who have arrived at your gate today. You know that American, Mexican, and Canadian citizens don't need visas, so they can just continue their trips. You don't need to check their passports for visas! You only need to check the passports of citizens of all other countries!\n",
    "\n",
    "Select names, and countries of origin of all the travelers, excluding anyone from Canada, Mexico, or The US.\n",
    "\n",
    "travelers table schema\n",
    "\n",
    "- name\n",
    "\n",
    "- country\n",
    "\n",
    "NOTE: The United States is written as 'USA' in the table.\n",
    "\n",
    "NOTE: Your solution should use pure SQL. Ruby is used within the test cases just to validate your answer."
   ]
  },
  {
   "cell_type": "markdown",
   "metadata": {},
   "source": [
    "SQL Solution Below:\n",
    "\n",
    "```\n",
    "SELECT t.name, t.country\n",
    "FROM travelers t\n",
    "WHERE country NOT IN ('Canada', 'Mexico', 'USA')\n",
    "```"
   ]
  },
  {
   "cell_type": "markdown",
   "metadata": {},
   "source": [
    "This is another simple SQL proble. Alternatively, `SELECT *` would work for this case as well. "
   ]
  }
 ]
}