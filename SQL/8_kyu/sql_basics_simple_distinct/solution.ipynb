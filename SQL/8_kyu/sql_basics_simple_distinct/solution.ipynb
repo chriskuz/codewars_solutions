{
 "nbformat": 4,
 "nbformat_minor": 2,
 "metadata": {
  "language_info": {
   "name": "python",
   "codemirror_mode": {
    "name": "ipython",
    "version": 3
   }
  },
  "orig_nbformat": 2,
  "file_extension": ".py",
  "mimetype": "text/x-python",
  "name": "python",
  "npconvert_exporter": "python",
  "pygments_lexer": "ipython3",
  "version": 3
 },
 "cells": [
  {
   "cell_type": "markdown",
   "metadata": {},
   "source": [
    "## SQL Basics: Simple DISTINCT\n",
    "\n",
    "For this challenge you need to create a simple DISTINCT statement, you want to find all the unique ages.\n",
    "\n",
    "__people table schema__\n",
    "\n",
    "- id\n",
    "\n",
    "- name\n",
    "\n",
    "- age\n",
    "\n",
    "select table schema\n",
    "\n",
    "- age (distinct)\n",
    "\n",
    "NOTE: Your solution should use pure SQL. Ruby is used within the test cases to do the actual testing."
   ]
  },
  {
   "cell_type": "markdown",
   "metadata": {},
   "source": [
    "SQL solution below\n",
    "\n",
    "```\n",
    "SELECT DISTINCT age\n",
    "FROM people\n",
    "```"
   ]
  }
 ]
}