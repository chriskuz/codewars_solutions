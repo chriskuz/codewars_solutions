{
 "nbformat": 4,
 "nbformat_minor": 2,
 "metadata": {
  "language_info": {
   "name": "python",
   "codemirror_mode": {
    "name": "ipython",
    "version": 3
   }
  },
  "orig_nbformat": 2,
  "file_extension": ".py",
  "mimetype": "text/x-python",
  "name": "python",
  "npconvert_exporter": "python",
  "pygments_lexer": "ipython3",
  "version": 3
 },
 "cells": [
  {
   "cell_type": "markdown",
   "metadata": {},
   "source": [
    "## Easy SQL - Ordering\n",
    "\n",
    "Your task is to sort the information in the provided table 'companies' by number of employees (high to low). Returned table should be in the same format as provided:\n",
    "\n",
    "__companies table schema__\n",
    "\n",
    "- id\n",
    "\n",
    "- ceo\n",
    "\n",
    "- motto\n",
    "\n",
    "- employees\n",
    "\n",
    " \n",
    "Solution should use pure SQL. Ruby is only used in test cases."
   ]
  },
  {
   "cell_type": "markdown",
   "metadata": {},
   "source": [
    "SQL Solution Below\n",
    "\n",
    "```\n",
    "SELECT c.employees, c.id, c.ceo, c.motto\n",
    "FROM companies as c\n",
    "ORDER BY c.employees desc\n",
    "```"
   ]
  },
  {
   "cell_type": "markdown",
   "metadata": {},
   "source": [
    "Alternatively, `SELECT *` could've been used. "
   ]
  }
 ]
}