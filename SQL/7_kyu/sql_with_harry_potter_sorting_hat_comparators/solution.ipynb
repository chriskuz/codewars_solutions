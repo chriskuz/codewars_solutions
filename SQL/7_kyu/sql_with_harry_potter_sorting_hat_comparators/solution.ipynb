{
 "nbformat": 4,
 "nbformat_minor": 2,
 "metadata": {
  "language_info": {
   "name": "python",
   "codemirror_mode": {
    "name": "ipython",
    "version": 3
   },
   "version": "3.7.6-final"
  },
  "orig_nbformat": 2,
  "file_extension": ".py",
  "mimetype": "text/x-python",
  "name": "python",
  "npconvert_exporter": "python",
  "pygments_lexer": "ipython3",
  "version": 3,
  "kernelspec": {
   "name": "python37664bitdsitestconda48790fb83d3f473c989768c98a666b4b",
   "display_name": "Python 3.7.6 64-bit ('DSI_test': conda)"
  }
 },
 "cells": [
  {
   "cell_type": "markdown",
   "metadata": {},
   "source": [
    "## SQL with Harry Potter: Sorting Hat Comparators\n",
    "\n",
    "There is truly no magic in the world; the Hogwarts Sorting Hat is SQL-based, its decision-making powers are common operators and prospectIve students are merely data - names, and two columns of qualities.\n",
    "\n",
    "students\n",
    "\n",
    "id\n",
    "\n",
    "name\n",
    "\n",
    "quality1\n",
    "\n",
    "quality2\n",
    "\n",
    "Slytherin are being quite strict this year and will only take students who are evil AND cunning.\n",
    "Gryffindor will take students who are brave but only if their second quality is NOT evil.\n",
    "Ravenclaw accepts students who are studious OR intelligent.\n",
    "Hufflepuff will simply take those who have the quality hufflepuff.\n",
    "\n",
    "(don't worry, for simplicity's sake 'brave' and 'studious' will only appear in quality1, and 'cunning' and 'intelligent' will only appear in quality2.)\n",
    "\n",
    "Return the id, name, quality1 and quality2 of all the students who'll be accepted, ordered by ascending id."
   ]
  },
  {
   "cell_type": "markdown",
   "metadata": {},
   "source": [
    "SQL Solution Below\n",
    "\n",
    "```\n",
    "SELECT s.id, s.name, s.quality1, s.quality2\n",
    "FROM students s\n",
    "WHERE \n",
    "  (s.quality1 = 'evil' AND s.quality2 = 'cunning') -- Sly\n",
    "  OR (s.quality1 = 'brave' AND s.quality2 != 'evil') -- Gry\n",
    "  OR (s.quality1 = 'studious' OR s.quality2 = 'intelligent') -- Rav\n",
    "  OR (s.quality1 = 'hufflepuff' OR s.quality2 = 'hufflepuff') -- Huff\n",
    "ORDER BY s.id ASC\n",
    "```"
   ]
  },
  {
   "cell_type": "markdown",
   "metadata": {},
   "source": [
    "There was a lot of information to take in on this problem to help visualize the table. It was easier to start writing down somewhere else all of the specific requirements of this problem rather than continuously re-read it from here in this manner. The end thought process and literal query search is expressed through this statement: \"From the students query, select the id, name, quality1, and quality2 columns, where each condition is true, and ultimately order the result by the id column in ascending order.\""
   ]
  },
  {
   "cell_type": "code",
   "execution_count": null,
   "metadata": {},
   "outputs": [],
   "source": []
  }
 ]
}